{
  "nbformat": 4,
  "nbformat_minor": 0,
  "metadata": {
    "colab": {
      "provenance": []
    },
    "kernelspec": {
      "name": "python3",
      "display_name": "Python 3"
    },
    "language_info": {
      "name": "python"
    }
  },
  "cells": [
    {
      "cell_type": "code",
      "source": [
        "#Bibliotecas utilizadas\n",
        "import cv2\n",
        "import math\n",
        "import numpy as np\n",
        "import matplotlib.pyplot as plt"
      ],
      "metadata": {
        "id": "iLkxShAtrbo3"
      },
      "execution_count": null,
      "outputs": []
    },
    {
      "cell_type": "markdown",
      "source": [
        "1) Implement a function that performs global and local histogram equalization of an image and test it on images flower_bee and fig3.15(a). Discuss the results by evaluating the histograms. Calculate the sample mean and sample variance of the images, before and after equalization. Show, for each case, the histogram before and after applying the methods. Is it possible to relate the results to the images? Explain."
      ],
      "metadata": {
        "id": "WF5zjzJx_YSD"
      }
    },
    {
      "cell_type": "code",
      "execution_count": null,
      "metadata": {
        "id": "HjWFenlu-10u",
        "colab": {
          "base_uri": "https://localhost:8080/",
          "height": 176
        },
        "outputId": "3457b1b0-1d79-4eb1-c801-dbf10e9f1301"
      },
      "outputs": [
        {
          "output_type": "error",
          "ename": "NameError",
          "evalue": "name 'generate_histogram_function' is not defined",
          "traceback": [
            "\u001b[0;31m---------------------------------------------------------------------------\u001b[0m",
            "\u001b[0;31mNameError\u001b[0m                                 Traceback (most recent call last)",
            "\u001b[0;32m<ipython-input-3-3045838669>\u001b[0m in \u001b[0;36m<cell line: 0>\u001b[0;34m()\u001b[0m\n\u001b[1;32m     30\u001b[0m \u001b[0;34m\u001b[0m\u001b[0m\n\u001b[1;32m     31\u001b[0m \u001b[0mimage\u001b[0m \u001b[0;34m=\u001b[0m \u001b[0mcv2\u001b[0m\u001b[0;34m.\u001b[0m\u001b[0mimread\u001b[0m\u001b[0;34m(\u001b[0m\u001b[0;34m'/content/drive/MyDrive/Material_mestrado/Processamento digital de imagens/Lista 1/flower_bee.png'\u001b[0m\u001b[0;34m,\u001b[0m \u001b[0mcv2\u001b[0m\u001b[0;34m.\u001b[0m\u001b[0mIMREAD_GRAYSCALE\u001b[0m\u001b[0;34m)\u001b[0m\u001b[0;34m\u001b[0m\u001b[0;34m\u001b[0m\u001b[0m\n\u001b[0;32m---> 32\u001b[0;31m \u001b[0mgenerate_histogram_function\u001b[0m\u001b[0;34m(\u001b[0m\u001b[0mimage\u001b[0m\u001b[0;34m)\u001b[0m\u001b[0;34m\u001b[0m\u001b[0;34m\u001b[0m\u001b[0m\n\u001b[0m",
            "\u001b[0;31mNameError\u001b[0m: name 'generate_histogram_function' is not defined"
          ]
        }
      ],
      "source": [
        "def calcula_histograma (img):\n",
        "  histogram = [0] *256\n",
        "  for i in range (img.shape[0]):\n",
        "    for j in range (img.shape[1]):\n",
        "      intensidade = int(img[i,j])\n",
        "      histogram [intensidade] = histogram[intensidade] + 1\n",
        "  return histogram\n",
        "\n",
        "def equalizacao_global (img):\n",
        "  histogram = calcula_histograma(img)\n",
        "  img_equalized = [0]*256\n",
        "  img_equalized[0] = histogram[0]\n",
        "  for i in range(1,256):\n",
        "\n",
        "\n",
        "image = cv2.imread('/content/drive/MyDrive/Material_mestrado/Processamento digital de imagens/Lista 1/flower_bee.png', cv2.IMREAD_GRAYSCALE)\n",
        "generate_histogram_function(image)\n"
      ]
    },
    {
      "cell_type": "markdown",
      "source": [
        "2) Reproduce Example 3.12 of the textbook (3rd edition)."
      ],
      "metadata": {
        "id": "HDqpkPKuCAR4"
      }
    },
    {
      "cell_type": "code",
      "source": [],
      "metadata": {
        "id": "KKGoYbwSCFX-"
      },
      "execution_count": null,
      "outputs": []
    },
    {
      "cell_type": "markdown",
      "source": [
        "3) Make a routine that implements an NxN (N must be an odd number) spatial\n",
        "convolution mask. You must discuss possible solutions for padding the borders and\n",
        "implement one of them. Evaluate the implemented routine on the lena.tif image, for\n",
        "the following cases: a) Low-Pass Filter, b) Laplacian filter (adding the original\n",
        "image to the result), c) Sobel filter (pass the two masks and return the image of the\n",
        "gradient magnitude). Show the obtained images and analyze them."
      ],
      "metadata": {
        "id": "u9vbQycGCF1I"
      }
    },
    {
      "cell_type": "code",
      "source": [],
      "metadata": {
        "id": "ZHqgzCTzCKxk"
      },
      "execution_count": null,
      "outputs": []
    },
    {
      "cell_type": "markdown",
      "source": [
        "4) Write a routine that implements in the frequency domain: a) a Butterworth low-pass filter of order n=1 and apply this filter on the image Fig3.35(a).jpg for twovalues of cutoff frequency (D0); b) a Butterworth low-pass filter of order n=8 on the same image and same cutoff frequencies; c) an ideal filter on the same image and same cutoff frequencies. Compare and comment on the results."
      ],
      "metadata": {
        "id": "bQQiNgLQCSdP"
      }
    },
    {
      "cell_type": "code",
      "source": [],
      "metadata": {
        "id": "vtvPo1KnCXmt"
      },
      "execution_count": null,
      "outputs": []
    },
    {
      "cell_type": "markdown",
      "source": [
        "5) For the image mar-il.gif, correct the problem of poor illumination in 2 different ways (assume the multiplicative model between reflectance and illumination and discuss the solutions)."
      ],
      "metadata": {
        "id": "b4iQ_s5xCd0g"
      }
    },
    {
      "cell_type": "code",
      "source": [],
      "metadata": {
        "id": "dDjTdnShCzm8"
      },
      "execution_count": null,
      "outputs": []
    },
    {
      "cell_type": "markdown",
      "source": [
        "6) Reduce the image frexp_1.png by alternately eliminating rows and columns.\n",
        "Compare the original image with the reduced one. What happened to it? What\n",
        "procedure could you apply to reduce this effect? Apply the solution devised to\n",
        "avoid this effect in the reduced image. Compare the new image with the other two\n",
        "and evaluate the result."
      ],
      "metadata": {
        "id": "oBWs2KVLC0OW"
      }
    },
    {
      "cell_type": "code",
      "source": [],
      "metadata": {
        "id": "fPWG8nsoDO4S"
      },
      "execution_count": null,
      "outputs": []
    },
    {
      "cell_type": "markdown",
      "source": [
        "7) Reproduce Example 4.24 of the textbook (3rd edition)."
      ],
      "metadata": {
        "id": "qI_BHOZfDPiy"
      }
    },
    {
      "cell_type": "code",
      "source": [],
      "metadata": {
        "id": "pCm40y02DS9q"
      },
      "execution_count": null,
      "outputs": []
    },
    {
      "cell_type": "markdown",
      "source": [
        "8) Apply to image Fig5.26(a).jpg the blur of Example 5.10 the textbook (3rd edition) and add a Gaussian noise of zero mean and variance of 200. Use the Wiener filtering and inverse filtering to try to recover the image. Calculate the PSNR of the recovered images, present them, and comment on methodologies and results. PSNR (Peak Signal to Noise Ratio) is computed using: where I(i, j) and K(i, j) are the original and corrupted images,respectively, and MAX is the highest gray level value of the original image. Use log10 to calculate PSNR."
      ],
      "metadata": {
        "id": "E9wCOctoDTs5"
      }
    },
    {
      "cell_type": "code",
      "source": [],
      "metadata": {
        "id": "VCQy3UFiDa5z"
      },
      "execution_count": null,
      "outputs": []
    },
    {
      "cell_type": "markdown",
      "source": [
        "9) For the images noise1.jpg and noise2.jpg, apply the filters mean 5x5, median 5x5 and the adaptive median filter (ranging from dimensions 3x3 to dimensions 11x11) to treat the noise. Compare with the original image.jpg by calculating the PSNR. Use log10 to calculate the PSNR. Compare the results and discuss.\n",
        "\n"
      ],
      "metadata": {
        "id": "Rx_auTggDprF"
      }
    },
    {
      "cell_type": "code",
      "source": [],
      "metadata": {
        "id": "tQneLYBEDh1R"
      },
      "execution_count": null,
      "outputs": []
    },
    {
      "cell_type": "markdown",
      "source": [
        "##Theoretical questions:\n"
      ],
      "metadata": {
        "id": "JiaIz2odqpM6"
      }
    },
    {
      "cell_type": "markdown",
      "source": [
        "1) Explain with your words the process to obtain a digital image from a continuous\n",
        "image (consider that (x,y) coordinates and f amplitude are continuous). Make the\n",
        "considerations regarding spatial and intensity resolution.\n"
      ],
      "metadata": {
        "id": "FTsMSQGSq0YN"
      }
    },
    {
      "cell_type": "markdown",
      "source": [],
      "metadata": {
        "id": "1enPeMyjrEnH"
      }
    },
    {
      "cell_type": "markdown",
      "source": [
        "2) How would you explain spatial frequency in an image?\n"
      ],
      "metadata": {
        "id": "7davwvpNrGIm"
      }
    },
    {
      "cell_type": "markdown",
      "source": [],
      "metadata": {
        "id": "tIs28iyNrK_g"
      }
    },
    {
      "cell_type": "markdown",
      "source": [
        "3) List and explain the problems related to filtering in the frequency domain and the use of DFT for this purpose. What can be done to reduce/avoid these problems?\n"
      ],
      "metadata": {
        "id": "-Yu01qYDq66z"
      }
    },
    {
      "cell_type": "markdown",
      "source": [],
      "metadata": {
        "id": "QURhEVICrAHt"
      }
    },
    {
      "cell_type": "markdown",
      "source": [
        "4) Explain the optimum notch filtering procedure and in which situations it is interesting to use it."
      ],
      "metadata": {
        "id": "C-0niF0ZrAwT"
      }
    },
    {
      "cell_type": "markdown",
      "source": [],
      "metadata": {
        "id": "_lhve43PrC8g"
      }
    }
  ]
}